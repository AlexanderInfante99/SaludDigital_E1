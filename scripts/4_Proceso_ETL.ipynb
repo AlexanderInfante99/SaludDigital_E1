{
 "cells": [
  {
   "cell_type": "markdown",
   "id": "0578630a",
   "metadata": {},
   "source": [
    "## 🧩 Fase 4 – ETL (Limpieza de Datos)\n",
    "•\tEliminar duplicados\n",
    "•\tRellenar valores nulos en campos de transporte o destino\n",
    "•\tFormatear fechas\n",
    "•\tValidar tipos de datos\n",
    "Guardar como pacientes_clean.csv."
   ]
  },
  {
   "cell_type": "code",
   "execution_count": 6,
   "id": "d214fbb1",
   "metadata": {},
   "outputs": [
    {
     "name": "stdout",
     "output_type": "stream",
     "text": [
      "Valores nulos antes de la limpieza:\n",
      "id_paciente         0\n",
      "nombre            298\n",
      "edad              324\n",
      "sexo              306\n",
      "distrito          305\n",
      "servicio          315\n",
      "fecha_atencion    298\n",
      "monto             299\n",
      "dtype: int64\n",
      "\n",
      "Después de la limpieza:\n",
      "id_paciente       0\n",
      "nombre            0\n",
      "edad              0\n",
      "sexo              0\n",
      "distrito          0\n",
      "servicio          0\n",
      "fecha_atencion    0\n",
      "monto             0\n",
      "dtype: int64\n",
      "\n",
      "Archivo limpio guardado en: C:\\Users\\ALEXANDER\\Documents\\SaludDigital_E1\\database\\pacientes_clean.csv\n",
      "Total de registros limpios: 3000\n"
     ]
    }
   ],
   "source": [
    "import pandas as pd\n",
    "from pathlib import Path\n",
    "\n",
    "data_path = Path.home() / \"Documents\" / \"SaludDigital_E1\" / \"data\"\n",
    "database_path = Path.home() / \"Documents\" / \"SaludDigital_E1\" / \"database\"\n",
    "database_path.mkdir(parents=True, exist_ok=True)\n",
    "\n",
    "input_file = data_path / \"atenciones.csv\"\n",
    "output_file = database_path / \"pacientes_clean.csv\"\n",
    "\n",
    "# Leer el archivo CSV original\n",
    "df = pd.read_csv(input_file)\n",
    "\n",
    "# Mostrar cantidad de valores nulos antes\n",
    "print(\"Valores nulos antes de la limpieza:\")\n",
    "print(df.isin([\"\", \"NA\", \"null\", \"N/D\"]).sum() + df.isnull().sum())\n",
    "\n",
    "# Reemplazar valores nulos o inconsistentes\n",
    "df.replace({\"\": pd.NA, \"NA\": pd.NA, \"null\": pd.NA, \"N/D\": pd.NA}, inplace=True)\n",
    "\n",
    "# Reemplazar nulos en columnas clave\n",
    "df[\"nombre\"] = df[\"nombre\"].fillna(\"SinNombre\")\n",
    "df[\"edad\"] = pd.to_numeric(df[\"edad\"], errors=\"coerce\")\n",
    "df[\"edad\"] = df[\"edad\"].fillna(df[\"edad\"].median())\n",
    "df[\"sexo\"] = df[\"sexo\"].fillna(\"N/D\")\n",
    "df[\"distrito\"] = df[\"distrito\"].fillna(\"Desconocido\")\n",
    "df[\"servicio\"] = df[\"servicio\"].fillna(\"SinServicio\")\n",
    "df[\"fecha_atencion\"] = df[\"fecha_atencion\"].fillna(\"01/01/2015\")\n",
    "df[\"monto\"] = df[\"monto\"].fillna(0.0)\n",
    "\n",
    "# Eliminar filas completamente vacías o duplicadas\n",
    "df.dropna(how=\"all\", inplace=True)\n",
    "df.drop_duplicates(inplace=True)\n",
    "\n",
    "# Mostrar resumen después de la limpieza\n",
    "print(\"\\nDespués de la limpieza:\")\n",
    "print(df.isnull().sum())\n",
    "\n",
    "# Guardar el nuevo archivo limpio\n",
    "df.to_csv(output_file, index=False, encoding=\"utf-8\")\n",
    "print(f\"\\nArchivo limpio guardado en: {output_file}\")\n",
    "print(f\"Total de registros limpios: {len(df)}\")"
   ]
  }
 ],
 "metadata": {
  "kernelspec": {
   "display_name": "myenv",
   "language": "python",
   "name": "python3"
  },
  "language_info": {
   "codemirror_mode": {
    "name": "ipython",
    "version": 3
   },
   "file_extension": ".py",
   "mimetype": "text/x-python",
   "name": "python",
   "nbconvert_exporter": "python",
   "pygments_lexer": "ipython3",
   "version": "3.13.5"
  }
 },
 "nbformat": 4,
 "nbformat_minor": 5
}
