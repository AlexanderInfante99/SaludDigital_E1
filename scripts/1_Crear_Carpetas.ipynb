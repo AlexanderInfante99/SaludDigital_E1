{
 "cells": [
  {
   "cell_type": "markdown",
   "id": "e2163465",
   "metadata": {},
   "source": [
    "# 🧩 Fase 1 – Creación de Archivos\n",
    "Crear carpetas data, database, reports, ci, git y scripts y estructura base del proyecto usando os y pathlib en tiempo de ejecución"
   ]
  },
  {
   "cell_type": "markdown",
   "id": "a15ac374",
   "metadata": {},
   "source": [
    "## Usando OS"
   ]
  },
  {
   "cell_type": "code",
   "execution_count": 6,
   "id": "4d1d3b9a",
   "metadata": {},
   "outputs": [
    {
     "name": "stdout",
     "output_type": "stream",
     "text": [
      "Carpeta base ya existe en: C:\\Users\\ALEXANDER\\Documents\\SaludDigital_E1\n",
      "La carpeta 'data' ya existe en: C:\\Users\\ALEXANDER\\Documents\\SaludDigital_E1\\data\n",
      "La carpeta 'database' ya existe en: C:\\Users\\ALEXANDER\\Documents\\SaludDigital_E1\\database\n",
      "La carpeta 'reports' ya existe en: C:\\Users\\ALEXANDER\\Documents\\SaludDigital_E1\\reports\n",
      "La carpeta 'ci' ya existe en: C:\\Users\\ALEXANDER\\Documents\\SaludDigital_E1\\ci\n",
      "La carpeta 'git' ya existe en: C:\\Users\\ALEXANDER\\Documents\\SaludDigital_E1\\git\n",
      "La carpeta 'scripts' ya existe en: C:\\Users\\ALEXANDER\\Documents\\SaludDigital_E1\\scripts\n"
     ]
    }
   ],
   "source": [
    "import os\n",
    "\n",
    "base_path = os.path.join(os.path.expanduser(\"~\"), \"Documents\", \"SaludDigital_E1\")\n",
    "\n",
    "if not os.path.exists(base_path):\n",
    "    os.makedirs(base_path)\n",
    "    print(f\"Carpeta base creada en: {base_path}\")\n",
    "else:\n",
    "    print(f\"Carpeta base ya existe en: {base_path}\")\n",
    "\n",
    "# Lista de carpetas\n",
    "carpetas = [\"data\", \"database\", \"reports\", \"ci\", \"git\", \"scripts\"]\n",
    "\n",
    "for carpeta in carpetas:\n",
    "    ruta_carpeta = os.path.join(base_path, carpeta)\n",
    "    if not os.path.exists(ruta_carpeta):\n",
    "        os.makedirs(ruta_carpeta)\n",
    "        print(f\"Carpeta '{carpeta}' creada en: {ruta_carpeta}\")\n",
    "    else:\n",
    "        print(f\"La carpeta '{carpeta}' ya existe en: {ruta_carpeta}\")"
   ]
  },
  {
   "cell_type": "markdown",
   "id": "bdb22acb",
   "metadata": {},
   "source": [
    "### Usando pathlib"
   ]
  },
  {
   "cell_type": "code",
   "execution_count": 2,
   "id": "9aeef474",
   "metadata": {},
   "outputs": [
    {
     "name": "stdout",
     "output_type": "stream",
     "text": [
      "Creando la carpeta 'data' en la ruta: C:\\Users\\ALEXANDER\\Documents\\SaludDigital_E1\\data\n",
      "Creando la carpeta 'database' en la ruta: C:\\Users\\ALEXANDER\\Documents\\SaludDigital_E1\\database\n",
      "Creando la carpeta 'reports' en la ruta: C:\\Users\\ALEXANDER\\Documents\\SaludDigital_E1\\reports\n",
      "Creando la carpeta 'ci' en la ruta: C:\\Users\\ALEXANDER\\Documents\\SaludDigital_E1\\ci\n",
      "Creando la carpeta 'git' en la ruta: C:\\Users\\ALEXANDER\\Documents\\SaludDigital_E1\\git\n",
      "Creando la carpeta 'scripts' en la ruta: C:\\Users\\ALEXANDER\\Documents\\SaludDigital_E1\\scripts\n"
     ]
    }
   ],
   "source": [
    "from pathlib import Path\n",
    "\n",
    "base_path = Path.home() / \"Documents\" / \"SaludDigital_E1\"\n",
    "\n",
    "base_path.mkdir(parents=True, exist_ok=True)\n",
    "\n",
    "carpetas = [\"data\", \"database\", \"reports\", \"ci\", \"git\", \"scripts\"]\n",
    "\n",
    "for carpeta in carpetas:\n",
    "    ruta = base_path / carpeta\n",
    "    ruta.mkdir(parents=True, exist_ok=True)\n",
    "    print(f\"Creando la carpeta '{carpeta}' en la ruta: {ruta}\")"
   ]
  }
 ],
 "metadata": {
  "kernelspec": {
   "display_name": "myenv",
   "language": "python",
   "name": "python3"
  },
  "language_info": {
   "codemirror_mode": {
    "name": "ipython",
    "version": 3
   },
   "file_extension": ".py",
   "mimetype": "text/x-python",
   "name": "python",
   "nbconvert_exporter": "python",
   "pygments_lexer": "ipython3",
   "version": "3.13.5"
  }
 },
 "nbformat": 4,
 "nbformat_minor": 5
}
