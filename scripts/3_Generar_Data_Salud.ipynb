{
 "cells": [
  {
   "cell_type": "markdown",
   "id": "9134db65",
   "metadata": {},
   "source": [
    "## 🧩 Fase 3 – Generación de Datos Aleatorios\n",
    "Generar un archivo CSV (pacientes.csv) con 3000 registros simulados, que incluya campos nulos, NA, entre otros"
   ]
  },
  {
   "cell_type": "code",
   "execution_count": 2,
   "id": "817acc94",
   "metadata": {},
   "outputs": [
    {
     "name": "stdout",
     "output_type": "stream",
     "text": [
      "Archivo generado correctamente en: C:\\Users\\ALEXANDER\\Documents\\SaludDigital_E1\\data\\atenciones.csv\n",
      "Total de registros: 3000\n"
     ]
    }
   ],
   "source": [
    "from pathlib import Path\n",
    "import csv\n",
    "import random\n",
    "from datetime import datetime, timedelta\n",
    "\n",
    "# Crear carpeta \"data\" si no existe\n",
    "data_path = Path.home() / \"Documents\" / \"SaludDigital_E1\" / \"data\"\n",
    "data_path.mkdir(parents=True, exist_ok=True)\n",
    "\n",
    "# Definir archivo CSV\n",
    "csv_file = data_path / \"atenciones.csv\"\n",
    "\n",
    "# Listas base de datos simulados\n",
    "nombres = [\"Luis\", \"María\", \"José\", \"Ana\", \"Carlos\", \"Lucía\", \"Pedro\", \"Sofía\", \"Miguel\", \"Valeria\"]\n",
    "sexos = [\"M\", \"F\"]\n",
    "distritos = [\"San Isidro\", \"Miraflores\", \"Surco\", \"La Molina\", \"Lince\", \"Callao\", \"Cajamarca\"]\n",
    "servicios = [\"Consulta médica\", \"Odontología\", \"Pediatría\", \"Ginecología\", \"Laboratorio\", \"Emergencia\"]\n",
    "valores_nulos = [\"\", \"NA\", \"null\", \"N/D\"]\n",
    "\n",
    "# Generar fecha aleatoria\n",
    "def generar_fecha():\n",
    "    inicio = datetime(2015, 1, 1)\n",
    "    fin = datetime(2025, 1, 1)\n",
    "    delta = fin - inicio\n",
    "    fecha_random = inicio + timedelta(days=random.randint(0, delta.days))\n",
    "    return fecha_random.strftime(\"%d/%m/%Y\")\n",
    "\n",
    "# Función para insertar nulos aleatoriamente\n",
    "def posiblemente_nulo(valor, probabilidad=0.1):\n",
    "    return random.choice(valores_nulos) if random.random() < probabilidad else valor\n",
    "\n",
    "# Crear registros simulados\n",
    "registros = []\n",
    "for i in range(1, 3001):\n",
    "    id_paciente = f\"P{str(i).zfill(5)}\"\n",
    "    nombre = posiblemente_nulo(random.choice(nombres))\n",
    "    edad = posiblemente_nulo(random.randint(1, 99))\n",
    "    sexo = posiblemente_nulo(random.choice(sexos))\n",
    "    distrito = posiblemente_nulo(random.choice(distritos))\n",
    "    servicio = posiblemente_nulo(random.choice(servicios))\n",
    "    fecha_atencion = posiblemente_nulo(generar_fecha())\n",
    "    monto = posiblemente_nulo(round(random.uniform(20, 500), 2))\n",
    "    registros.append([id_paciente, nombre, edad, sexo, distrito, servicio, fecha_atencion, monto])\n",
    "\n",
    "# Escribir en el archivo CSV\n",
    "with open(csv_file, mode=\"w\", newline=\"\", encoding=\"utf-8\") as file:\n",
    "    writer = csv.writer(file)\n",
    "    writer.writerow([\"id_paciente\", \"nombre\", \"edad\", \"sexo\", \"distrito\", \"servicio\", \"fecha_atencion\", \"monto\"])\n",
    "    writer.writerows(registros)\n",
    "\n",
    "print(f\"Archivo generado correctamente en: {csv_file}\")\n",
    "print(f\"Total de registros: {len(registros)}\")"
   ]
  }
 ],
 "metadata": {
  "kernelspec": {
   "display_name": "myenv",
   "language": "python",
   "name": "python3"
  },
  "language_info": {
   "codemirror_mode": {
    "name": "ipython",
    "version": 3
   },
   "file_extension": ".py",
   "mimetype": "text/x-python",
   "name": "python",
   "nbconvert_exporter": "python",
   "pygments_lexer": "ipython3",
   "version": "3.13.5"
  }
 },
 "nbformat": 4,
 "nbformat_minor": 5
}
